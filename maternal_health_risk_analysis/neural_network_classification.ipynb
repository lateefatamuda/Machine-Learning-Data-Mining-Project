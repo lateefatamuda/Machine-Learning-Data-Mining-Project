{
  "nbformat": 4,
  "nbformat_minor": 0,
  "metadata": {
    "colab": {
      "provenance": []
    },
    "kernelspec": {
      "name": "python3",
      "display_name": "Python 3"
    },
    "language_info": {
      "name": "python"
    },
    "accelerator": "GPU",
    "gpuClass": "standard"
  },
  "cells": [
    {
      "cell_type": "code",
      "execution_count": 1,
      "metadata": {
        "id": "kT9AS0EaCAlH"
      },
      "outputs": [],
      "source": [
        "import numpy as np\n",
        "import pandas as pd\n",
        "import matplotlib.pyplot as plt\n",
        "import tensorflow as tf\n",
        "import seaborn as sns\n",
        "from sklearn.preprocessing import StandardScaler\n",
        "from sklearn.model_selection import train_test_split"
      ]
    },
    {
      "cell_type": "markdown",
      "source": [
        "Preparing and Exploring the dataset"
      ],
      "metadata": {
        "id": "ZkWaT2VxnkSw"
      }
    },
    {
      "cell_type": "code",
      "source": [
        "# Loading the dataset\n",
        "maternal_health_risk_data = pd.read_csv('Maternal Health Risk Data Set.csv')\n",
        "maternal_health_risk_data.head()"
      ],
      "metadata": {
        "id": "fpWoKeWlC3OG",
        "colab": {
          "base_uri": "https://localhost:8080/",
          "height": 206
        },
        "outputId": "464b7603-573e-4473-f51d-5793db9411d9"
      },
      "execution_count": 2,
      "outputs": [
        {
          "output_type": "execute_result",
          "data": {
            "text/plain": [
              "   Age  SystolicBP  DiastolicBP    BS  BodyTemp  HeartRate  RiskLevel\n",
              "0   25         130           80  15.0      98.0         86  high risk\n",
              "1   35         140           90  13.0      98.0         70  high risk\n",
              "2   29          90           70   8.0     100.0         80  high risk\n",
              "3   30         140           85   7.0      98.0         70  high risk\n",
              "4   35         120           60   6.1      98.0         76   low risk"
            ],
            "text/html": [
              "\n",
              "  <div id=\"df-3d2c58f8-26bc-4a5b-a9fb-6a040148e33d\">\n",
              "    <div class=\"colab-df-container\">\n",
              "      <div>\n",
              "<style scoped>\n",
              "    .dataframe tbody tr th:only-of-type {\n",
              "        vertical-align: middle;\n",
              "    }\n",
              "\n",
              "    .dataframe tbody tr th {\n",
              "        vertical-align: top;\n",
              "    }\n",
              "\n",
              "    .dataframe thead th {\n",
              "        text-align: right;\n",
              "    }\n",
              "</style>\n",
              "<table border=\"1\" class=\"dataframe\">\n",
              "  <thead>\n",
              "    <tr style=\"text-align: right;\">\n",
              "      <th></th>\n",
              "      <th>Age</th>\n",
              "      <th>SystolicBP</th>\n",
              "      <th>DiastolicBP</th>\n",
              "      <th>BS</th>\n",
              "      <th>BodyTemp</th>\n",
              "      <th>HeartRate</th>\n",
              "      <th>RiskLevel</th>\n",
              "    </tr>\n",
              "  </thead>\n",
              "  <tbody>\n",
              "    <tr>\n",
              "      <th>0</th>\n",
              "      <td>25</td>\n",
              "      <td>130</td>\n",
              "      <td>80</td>\n",
              "      <td>15.0</td>\n",
              "      <td>98.0</td>\n",
              "      <td>86</td>\n",
              "      <td>high risk</td>\n",
              "    </tr>\n",
              "    <tr>\n",
              "      <th>1</th>\n",
              "      <td>35</td>\n",
              "      <td>140</td>\n",
              "      <td>90</td>\n",
              "      <td>13.0</td>\n",
              "      <td>98.0</td>\n",
              "      <td>70</td>\n",
              "      <td>high risk</td>\n",
              "    </tr>\n",
              "    <tr>\n",
              "      <th>2</th>\n",
              "      <td>29</td>\n",
              "      <td>90</td>\n",
              "      <td>70</td>\n",
              "      <td>8.0</td>\n",
              "      <td>100.0</td>\n",
              "      <td>80</td>\n",
              "      <td>high risk</td>\n",
              "    </tr>\n",
              "    <tr>\n",
              "      <th>3</th>\n",
              "      <td>30</td>\n",
              "      <td>140</td>\n",
              "      <td>85</td>\n",
              "      <td>7.0</td>\n",
              "      <td>98.0</td>\n",
              "      <td>70</td>\n",
              "      <td>high risk</td>\n",
              "    </tr>\n",
              "    <tr>\n",
              "      <th>4</th>\n",
              "      <td>35</td>\n",
              "      <td>120</td>\n",
              "      <td>60</td>\n",
              "      <td>6.1</td>\n",
              "      <td>98.0</td>\n",
              "      <td>76</td>\n",
              "      <td>low risk</td>\n",
              "    </tr>\n",
              "  </tbody>\n",
              "</table>\n",
              "</div>\n",
              "      <button class=\"colab-df-convert\" onclick=\"convertToInteractive('df-3d2c58f8-26bc-4a5b-a9fb-6a040148e33d')\"\n",
              "              title=\"Convert this dataframe to an interactive table.\"\n",
              "              style=\"display:none;\">\n",
              "        \n",
              "  <svg xmlns=\"http://www.w3.org/2000/svg\" height=\"24px\"viewBox=\"0 0 24 24\"\n",
              "       width=\"24px\">\n",
              "    <path d=\"M0 0h24v24H0V0z\" fill=\"none\"/>\n",
              "    <path d=\"M18.56 5.44l.94 2.06.94-2.06 2.06-.94-2.06-.94-.94-2.06-.94 2.06-2.06.94zm-11 1L8.5 8.5l.94-2.06 2.06-.94-2.06-.94L8.5 2.5l-.94 2.06-2.06.94zm10 10l.94 2.06.94-2.06 2.06-.94-2.06-.94-.94-2.06-.94 2.06-2.06.94z\"/><path d=\"M17.41 7.96l-1.37-1.37c-.4-.4-.92-.59-1.43-.59-.52 0-1.04.2-1.43.59L10.3 9.45l-7.72 7.72c-.78.78-.78 2.05 0 2.83L4 21.41c.39.39.9.59 1.41.59.51 0 1.02-.2 1.41-.59l7.78-7.78 2.81-2.81c.8-.78.8-2.07 0-2.86zM5.41 20L4 18.59l7.72-7.72 1.47 1.35L5.41 20z\"/>\n",
              "  </svg>\n",
              "      </button>\n",
              "      \n",
              "  <style>\n",
              "    .colab-df-container {\n",
              "      display:flex;\n",
              "      flex-wrap:wrap;\n",
              "      gap: 12px;\n",
              "    }\n",
              "\n",
              "    .colab-df-convert {\n",
              "      background-color: #E8F0FE;\n",
              "      border: none;\n",
              "      border-radius: 50%;\n",
              "      cursor: pointer;\n",
              "      display: none;\n",
              "      fill: #1967D2;\n",
              "      height: 32px;\n",
              "      padding: 0 0 0 0;\n",
              "      width: 32px;\n",
              "    }\n",
              "\n",
              "    .colab-df-convert:hover {\n",
              "      background-color: #E2EBFA;\n",
              "      box-shadow: 0px 1px 2px rgba(60, 64, 67, 0.3), 0px 1px 3px 1px rgba(60, 64, 67, 0.15);\n",
              "      fill: #174EA6;\n",
              "    }\n",
              "\n",
              "    [theme=dark] .colab-df-convert {\n",
              "      background-color: #3B4455;\n",
              "      fill: #D2E3FC;\n",
              "    }\n",
              "\n",
              "    [theme=dark] .colab-df-convert:hover {\n",
              "      background-color: #434B5C;\n",
              "      box-shadow: 0px 1px 3px 1px rgba(0, 0, 0, 0.15);\n",
              "      filter: drop-shadow(0px 1px 2px rgba(0, 0, 0, 0.3));\n",
              "      fill: #FFFFFF;\n",
              "    }\n",
              "  </style>\n",
              "\n",
              "      <script>\n",
              "        const buttonEl =\n",
              "          document.querySelector('#df-3d2c58f8-26bc-4a5b-a9fb-6a040148e33d button.colab-df-convert');\n",
              "        buttonEl.style.display =\n",
              "          google.colab.kernel.accessAllowed ? 'block' : 'none';\n",
              "\n",
              "        async function convertToInteractive(key) {\n",
              "          const element = document.querySelector('#df-3d2c58f8-26bc-4a5b-a9fb-6a040148e33d');\n",
              "          const dataTable =\n",
              "            await google.colab.kernel.invokeFunction('convertToInteractive',\n",
              "                                                     [key], {});\n",
              "          if (!dataTable) return;\n",
              "\n",
              "          const docLinkHtml = 'Like what you see? Visit the ' +\n",
              "            '<a target=\"_blank\" href=https://colab.research.google.com/notebooks/data_table.ipynb>data table notebook</a>'\n",
              "            + ' to learn more about interactive tables.';\n",
              "          element.innerHTML = '';\n",
              "          dataTable['output_type'] = 'display_data';\n",
              "          await google.colab.output.renderOutput(dataTable, element);\n",
              "          const docLink = document.createElement('div');\n",
              "          docLink.innerHTML = docLinkHtml;\n",
              "          element.appendChild(docLink);\n",
              "        }\n",
              "      </script>\n",
              "    </div>\n",
              "  </div>\n",
              "  "
            ]
          },
          "metadata": {},
          "execution_count": 2
        }
      ]
    },
    {
      "cell_type": "code",
      "source": [
        "maternal_health_risk_data.tail()"
      ],
      "metadata": {
        "id": "eVdr58XaEW2S",
        "colab": {
          "base_uri": "https://localhost:8080/",
          "height": 206
        },
        "outputId": "8fc6660d-34b5-4986-cdd1-709d919b85e6"
      },
      "execution_count": 3,
      "outputs": [
        {
          "output_type": "execute_result",
          "data": {
            "text/plain": [
              "      Age  SystolicBP  DiastolicBP    BS  BodyTemp  HeartRate  RiskLevel\n",
              "1009   22         120           60  15.0      98.0         80  high risk\n",
              "1010   55         120           90  18.0      98.0         60  high risk\n",
              "1011   35          85           60  19.0      98.0         86  high risk\n",
              "1012   43         120           90  18.0      98.0         70  high risk\n",
              "1013   32         120           65   6.0     101.0         76   mid risk"
            ],
            "text/html": [
              "\n",
              "  <div id=\"df-245ff310-b4c1-4207-8cf5-4f52886a2df9\">\n",
              "    <div class=\"colab-df-container\">\n",
              "      <div>\n",
              "<style scoped>\n",
              "    .dataframe tbody tr th:only-of-type {\n",
              "        vertical-align: middle;\n",
              "    }\n",
              "\n",
              "    .dataframe tbody tr th {\n",
              "        vertical-align: top;\n",
              "    }\n",
              "\n",
              "    .dataframe thead th {\n",
              "        text-align: right;\n",
              "    }\n",
              "</style>\n",
              "<table border=\"1\" class=\"dataframe\">\n",
              "  <thead>\n",
              "    <tr style=\"text-align: right;\">\n",
              "      <th></th>\n",
              "      <th>Age</th>\n",
              "      <th>SystolicBP</th>\n",
              "      <th>DiastolicBP</th>\n",
              "      <th>BS</th>\n",
              "      <th>BodyTemp</th>\n",
              "      <th>HeartRate</th>\n",
              "      <th>RiskLevel</th>\n",
              "    </tr>\n",
              "  </thead>\n",
              "  <tbody>\n",
              "    <tr>\n",
              "      <th>1009</th>\n",
              "      <td>22</td>\n",
              "      <td>120</td>\n",
              "      <td>60</td>\n",
              "      <td>15.0</td>\n",
              "      <td>98.0</td>\n",
              "      <td>80</td>\n",
              "      <td>high risk</td>\n",
              "    </tr>\n",
              "    <tr>\n",
              "      <th>1010</th>\n",
              "      <td>55</td>\n",
              "      <td>120</td>\n",
              "      <td>90</td>\n",
              "      <td>18.0</td>\n",
              "      <td>98.0</td>\n",
              "      <td>60</td>\n",
              "      <td>high risk</td>\n",
              "    </tr>\n",
              "    <tr>\n",
              "      <th>1011</th>\n",
              "      <td>35</td>\n",
              "      <td>85</td>\n",
              "      <td>60</td>\n",
              "      <td>19.0</td>\n",
              "      <td>98.0</td>\n",
              "      <td>86</td>\n",
              "      <td>high risk</td>\n",
              "    </tr>\n",
              "    <tr>\n",
              "      <th>1012</th>\n",
              "      <td>43</td>\n",
              "      <td>120</td>\n",
              "      <td>90</td>\n",
              "      <td>18.0</td>\n",
              "      <td>98.0</td>\n",
              "      <td>70</td>\n",
              "      <td>high risk</td>\n",
              "    </tr>\n",
              "    <tr>\n",
              "      <th>1013</th>\n",
              "      <td>32</td>\n",
              "      <td>120</td>\n",
              "      <td>65</td>\n",
              "      <td>6.0</td>\n",
              "      <td>101.0</td>\n",
              "      <td>76</td>\n",
              "      <td>mid risk</td>\n",
              "    </tr>\n",
              "  </tbody>\n",
              "</table>\n",
              "</div>\n",
              "      <button class=\"colab-df-convert\" onclick=\"convertToInteractive('df-245ff310-b4c1-4207-8cf5-4f52886a2df9')\"\n",
              "              title=\"Convert this dataframe to an interactive table.\"\n",
              "              style=\"display:none;\">\n",
              "        \n",
              "  <svg xmlns=\"http://www.w3.org/2000/svg\" height=\"24px\"viewBox=\"0 0 24 24\"\n",
              "       width=\"24px\">\n",
              "    <path d=\"M0 0h24v24H0V0z\" fill=\"none\"/>\n",
              "    <path d=\"M18.56 5.44l.94 2.06.94-2.06 2.06-.94-2.06-.94-.94-2.06-.94 2.06-2.06.94zm-11 1L8.5 8.5l.94-2.06 2.06-.94-2.06-.94L8.5 2.5l-.94 2.06-2.06.94zm10 10l.94 2.06.94-2.06 2.06-.94-2.06-.94-.94-2.06-.94 2.06-2.06.94z\"/><path d=\"M17.41 7.96l-1.37-1.37c-.4-.4-.92-.59-1.43-.59-.52 0-1.04.2-1.43.59L10.3 9.45l-7.72 7.72c-.78.78-.78 2.05 0 2.83L4 21.41c.39.39.9.59 1.41.59.51 0 1.02-.2 1.41-.59l7.78-7.78 2.81-2.81c.8-.78.8-2.07 0-2.86zM5.41 20L4 18.59l7.72-7.72 1.47 1.35L5.41 20z\"/>\n",
              "  </svg>\n",
              "      </button>\n",
              "      \n",
              "  <style>\n",
              "    .colab-df-container {\n",
              "      display:flex;\n",
              "      flex-wrap:wrap;\n",
              "      gap: 12px;\n",
              "    }\n",
              "\n",
              "    .colab-df-convert {\n",
              "      background-color: #E8F0FE;\n",
              "      border: none;\n",
              "      border-radius: 50%;\n",
              "      cursor: pointer;\n",
              "      display: none;\n",
              "      fill: #1967D2;\n",
              "      height: 32px;\n",
              "      padding: 0 0 0 0;\n",
              "      width: 32px;\n",
              "    }\n",
              "\n",
              "    .colab-df-convert:hover {\n",
              "      background-color: #E2EBFA;\n",
              "      box-shadow: 0px 1px 2px rgba(60, 64, 67, 0.3), 0px 1px 3px 1px rgba(60, 64, 67, 0.15);\n",
              "      fill: #174EA6;\n",
              "    }\n",
              "\n",
              "    [theme=dark] .colab-df-convert {\n",
              "      background-color: #3B4455;\n",
              "      fill: #D2E3FC;\n",
              "    }\n",
              "\n",
              "    [theme=dark] .colab-df-convert:hover {\n",
              "      background-color: #434B5C;\n",
              "      box-shadow: 0px 1px 3px 1px rgba(0, 0, 0, 0.15);\n",
              "      filter: drop-shadow(0px 1px 2px rgba(0, 0, 0, 0.3));\n",
              "      fill: #FFFFFF;\n",
              "    }\n",
              "  </style>\n",
              "\n",
              "      <script>\n",
              "        const buttonEl =\n",
              "          document.querySelector('#df-245ff310-b4c1-4207-8cf5-4f52886a2df9 button.colab-df-convert');\n",
              "        buttonEl.style.display =\n",
              "          google.colab.kernel.accessAllowed ? 'block' : 'none';\n",
              "\n",
              "        async function convertToInteractive(key) {\n",
              "          const element = document.querySelector('#df-245ff310-b4c1-4207-8cf5-4f52886a2df9');\n",
              "          const dataTable =\n",
              "            await google.colab.kernel.invokeFunction('convertToInteractive',\n",
              "                                                     [key], {});\n",
              "          if (!dataTable) return;\n",
              "\n",
              "          const docLinkHtml = 'Like what you see? Visit the ' +\n",
              "            '<a target=\"_blank\" href=https://colab.research.google.com/notebooks/data_table.ipynb>data table notebook</a>'\n",
              "            + ' to learn more about interactive tables.';\n",
              "          element.innerHTML = '';\n",
              "          dataTable['output_type'] = 'display_data';\n",
              "          await google.colab.output.renderOutput(dataTable, element);\n",
              "          const docLink = document.createElement('div');\n",
              "          docLink.innerHTML = docLinkHtml;\n",
              "          element.appendChild(docLink);\n",
              "        }\n",
              "      </script>\n",
              "    </div>\n",
              "  </div>\n",
              "  "
            ]
          },
          "metadata": {},
          "execution_count": 3
        }
      ]
    },
    {
      "cell_type": "code",
      "source": [
        "# Changing the categorical data to numerical\n",
        "maternal_health_risk_data['RiskLevel'] = maternal_health_risk_data['RiskLevel'].replace(['high risk', 'mid risk', 'low risk'], [2, 1, 0])\n",
        "maternal_health_risk_data.head()"
      ],
      "metadata": {
        "colab": {
          "base_uri": "https://localhost:8080/",
          "height": 206
        },
        "id": "hEqzrlY4IxP0",
        "outputId": "72334512-9206-457e-b8c7-e5a803f7d391"
      },
      "execution_count": 4,
      "outputs": [
        {
          "output_type": "execute_result",
          "data": {
            "text/plain": [
              "   Age  SystolicBP  DiastolicBP    BS  BodyTemp  HeartRate  RiskLevel\n",
              "0   25         130           80  15.0      98.0         86          2\n",
              "1   35         140           90  13.0      98.0         70          2\n",
              "2   29          90           70   8.0     100.0         80          2\n",
              "3   30         140           85   7.0      98.0         70          2\n",
              "4   35         120           60   6.1      98.0         76          0"
            ],
            "text/html": [
              "\n",
              "  <div id=\"df-e0c35862-de69-42ea-ac6d-7fcf54d8c145\">\n",
              "    <div class=\"colab-df-container\">\n",
              "      <div>\n",
              "<style scoped>\n",
              "    .dataframe tbody tr th:only-of-type {\n",
              "        vertical-align: middle;\n",
              "    }\n",
              "\n",
              "    .dataframe tbody tr th {\n",
              "        vertical-align: top;\n",
              "    }\n",
              "\n",
              "    .dataframe thead th {\n",
              "        text-align: right;\n",
              "    }\n",
              "</style>\n",
              "<table border=\"1\" class=\"dataframe\">\n",
              "  <thead>\n",
              "    <tr style=\"text-align: right;\">\n",
              "      <th></th>\n",
              "      <th>Age</th>\n",
              "      <th>SystolicBP</th>\n",
              "      <th>DiastolicBP</th>\n",
              "      <th>BS</th>\n",
              "      <th>BodyTemp</th>\n",
              "      <th>HeartRate</th>\n",
              "      <th>RiskLevel</th>\n",
              "    </tr>\n",
              "  </thead>\n",
              "  <tbody>\n",
              "    <tr>\n",
              "      <th>0</th>\n",
              "      <td>25</td>\n",
              "      <td>130</td>\n",
              "      <td>80</td>\n",
              "      <td>15.0</td>\n",
              "      <td>98.0</td>\n",
              "      <td>86</td>\n",
              "      <td>2</td>\n",
              "    </tr>\n",
              "    <tr>\n",
              "      <th>1</th>\n",
              "      <td>35</td>\n",
              "      <td>140</td>\n",
              "      <td>90</td>\n",
              "      <td>13.0</td>\n",
              "      <td>98.0</td>\n",
              "      <td>70</td>\n",
              "      <td>2</td>\n",
              "    </tr>\n",
              "    <tr>\n",
              "      <th>2</th>\n",
              "      <td>29</td>\n",
              "      <td>90</td>\n",
              "      <td>70</td>\n",
              "      <td>8.0</td>\n",
              "      <td>100.0</td>\n",
              "      <td>80</td>\n",
              "      <td>2</td>\n",
              "    </tr>\n",
              "    <tr>\n",
              "      <th>3</th>\n",
              "      <td>30</td>\n",
              "      <td>140</td>\n",
              "      <td>85</td>\n",
              "      <td>7.0</td>\n",
              "      <td>98.0</td>\n",
              "      <td>70</td>\n",
              "      <td>2</td>\n",
              "    </tr>\n",
              "    <tr>\n",
              "      <th>4</th>\n",
              "      <td>35</td>\n",
              "      <td>120</td>\n",
              "      <td>60</td>\n",
              "      <td>6.1</td>\n",
              "      <td>98.0</td>\n",
              "      <td>76</td>\n",
              "      <td>0</td>\n",
              "    </tr>\n",
              "  </tbody>\n",
              "</table>\n",
              "</div>\n",
              "      <button class=\"colab-df-convert\" onclick=\"convertToInteractive('df-e0c35862-de69-42ea-ac6d-7fcf54d8c145')\"\n",
              "              title=\"Convert this dataframe to an interactive table.\"\n",
              "              style=\"display:none;\">\n",
              "        \n",
              "  <svg xmlns=\"http://www.w3.org/2000/svg\" height=\"24px\"viewBox=\"0 0 24 24\"\n",
              "       width=\"24px\">\n",
              "    <path d=\"M0 0h24v24H0V0z\" fill=\"none\"/>\n",
              "    <path d=\"M18.56 5.44l.94 2.06.94-2.06 2.06-.94-2.06-.94-.94-2.06-.94 2.06-2.06.94zm-11 1L8.5 8.5l.94-2.06 2.06-.94-2.06-.94L8.5 2.5l-.94 2.06-2.06.94zm10 10l.94 2.06.94-2.06 2.06-.94-2.06-.94-.94-2.06-.94 2.06-2.06.94z\"/><path d=\"M17.41 7.96l-1.37-1.37c-.4-.4-.92-.59-1.43-.59-.52 0-1.04.2-1.43.59L10.3 9.45l-7.72 7.72c-.78.78-.78 2.05 0 2.83L4 21.41c.39.39.9.59 1.41.59.51 0 1.02-.2 1.41-.59l7.78-7.78 2.81-2.81c.8-.78.8-2.07 0-2.86zM5.41 20L4 18.59l7.72-7.72 1.47 1.35L5.41 20z\"/>\n",
              "  </svg>\n",
              "      </button>\n",
              "      \n",
              "  <style>\n",
              "    .colab-df-container {\n",
              "      display:flex;\n",
              "      flex-wrap:wrap;\n",
              "      gap: 12px;\n",
              "    }\n",
              "\n",
              "    .colab-df-convert {\n",
              "      background-color: #E8F0FE;\n",
              "      border: none;\n",
              "      border-radius: 50%;\n",
              "      cursor: pointer;\n",
              "      display: none;\n",
              "      fill: #1967D2;\n",
              "      height: 32px;\n",
              "      padding: 0 0 0 0;\n",
              "      width: 32px;\n",
              "    }\n",
              "\n",
              "    .colab-df-convert:hover {\n",
              "      background-color: #E2EBFA;\n",
              "      box-shadow: 0px 1px 2px rgba(60, 64, 67, 0.3), 0px 1px 3px 1px rgba(60, 64, 67, 0.15);\n",
              "      fill: #174EA6;\n",
              "    }\n",
              "\n",
              "    [theme=dark] .colab-df-convert {\n",
              "      background-color: #3B4455;\n",
              "      fill: #D2E3FC;\n",
              "    }\n",
              "\n",
              "    [theme=dark] .colab-df-convert:hover {\n",
              "      background-color: #434B5C;\n",
              "      box-shadow: 0px 1px 3px 1px rgba(0, 0, 0, 0.15);\n",
              "      filter: drop-shadow(0px 1px 2px rgba(0, 0, 0, 0.3));\n",
              "      fill: #FFFFFF;\n",
              "    }\n",
              "  </style>\n",
              "\n",
              "      <script>\n",
              "        const buttonEl =\n",
              "          document.querySelector('#df-e0c35862-de69-42ea-ac6d-7fcf54d8c145 button.colab-df-convert');\n",
              "        buttonEl.style.display =\n",
              "          google.colab.kernel.accessAllowed ? 'block' : 'none';\n",
              "\n",
              "        async function convertToInteractive(key) {\n",
              "          const element = document.querySelector('#df-e0c35862-de69-42ea-ac6d-7fcf54d8c145');\n",
              "          const dataTable =\n",
              "            await google.colab.kernel.invokeFunction('convertToInteractive',\n",
              "                                                     [key], {});\n",
              "          if (!dataTable) return;\n",
              "\n",
              "          const docLinkHtml = 'Like what you see? Visit the ' +\n",
              "            '<a target=\"_blank\" href=https://colab.research.google.com/notebooks/data_table.ipynb>data table notebook</a>'\n",
              "            + ' to learn more about interactive tables.';\n",
              "          element.innerHTML = '';\n",
              "          dataTable['output_type'] = 'display_data';\n",
              "          await google.colab.output.renderOutput(dataTable, element);\n",
              "          const docLink = document.createElement('div');\n",
              "          docLink.innerHTML = docLinkHtml;\n",
              "          element.appendChild(docLink);\n",
              "        }\n",
              "      </script>\n",
              "    </div>\n",
              "  </div>\n",
              "  "
            ]
          },
          "metadata": {},
          "execution_count": 4
        }
      ]
    },
    {
      "cell_type": "code",
      "source": [
        "maternal_health_risk_data.info()"
      ],
      "metadata": {
        "colab": {
          "base_uri": "https://localhost:8080/",
          "height": 0
        },
        "id": "lnwPDsIyNc50",
        "outputId": "ce386635-7b32-44cb-e1ee-fe606ba3c75d"
      },
      "execution_count": 5,
      "outputs": [
        {
          "output_type": "stream",
          "name": "stdout",
          "text": [
            "<class 'pandas.core.frame.DataFrame'>\n",
            "RangeIndex: 1014 entries, 0 to 1013\n",
            "Data columns (total 7 columns):\n",
            " #   Column       Non-Null Count  Dtype  \n",
            "---  ------       --------------  -----  \n",
            " 0   Age          1014 non-null   int64  \n",
            " 1   SystolicBP   1014 non-null   int64  \n",
            " 2   DiastolicBP  1014 non-null   int64  \n",
            " 3   BS           1014 non-null   float64\n",
            " 4   BodyTemp     1014 non-null   float64\n",
            " 5   HeartRate    1014 non-null   int64  \n",
            " 6   RiskLevel    1014 non-null   int64  \n",
            "dtypes: float64(2), int64(5)\n",
            "memory usage: 55.6 KB\n"
          ]
        }
      ]
    },
    {
      "cell_type": "code",
      "source": [
        "maternal_health_risk_data.describe()"
      ],
      "metadata": {
        "colab": {
          "base_uri": "https://localhost:8080/",
          "height": 300
        },
        "id": "3_otkdXlNRTi",
        "outputId": "500d3e60-fdeb-483d-c1cd-3a01f1ba243f"
      },
      "execution_count": 6,
      "outputs": [
        {
          "output_type": "execute_result",
          "data": {
            "text/plain": [
              "               Age   SystolicBP  DiastolicBP           BS     BodyTemp  \\\n",
              "count  1014.000000  1014.000000  1014.000000  1014.000000  1014.000000   \n",
              "mean     29.871795   113.198225    76.460552     8.725986    98.665089   \n",
              "std      13.474386    18.403913    13.885796     3.293532     1.371384   \n",
              "min      10.000000    70.000000    49.000000     6.000000    98.000000   \n",
              "25%      19.000000   100.000000    65.000000     6.900000    98.000000   \n",
              "50%      26.000000   120.000000    80.000000     7.500000    98.000000   \n",
              "75%      39.000000   120.000000    90.000000     8.000000    98.000000   \n",
              "max      70.000000   160.000000   100.000000    19.000000   103.000000   \n",
              "\n",
              "         HeartRate    RiskLevel  \n",
              "count  1014.000000  1014.000000  \n",
              "mean     74.301775     0.867850  \n",
              "std       8.088702     0.807353  \n",
              "min       7.000000     0.000000  \n",
              "25%      70.000000     0.000000  \n",
              "50%      76.000000     1.000000  \n",
              "75%      80.000000     2.000000  \n",
              "max      90.000000     2.000000  "
            ],
            "text/html": [
              "\n",
              "  <div id=\"df-cd777708-2a36-44d6-94ce-039fb85cac23\">\n",
              "    <div class=\"colab-df-container\">\n",
              "      <div>\n",
              "<style scoped>\n",
              "    .dataframe tbody tr th:only-of-type {\n",
              "        vertical-align: middle;\n",
              "    }\n",
              "\n",
              "    .dataframe tbody tr th {\n",
              "        vertical-align: top;\n",
              "    }\n",
              "\n",
              "    .dataframe thead th {\n",
              "        text-align: right;\n",
              "    }\n",
              "</style>\n",
              "<table border=\"1\" class=\"dataframe\">\n",
              "  <thead>\n",
              "    <tr style=\"text-align: right;\">\n",
              "      <th></th>\n",
              "      <th>Age</th>\n",
              "      <th>SystolicBP</th>\n",
              "      <th>DiastolicBP</th>\n",
              "      <th>BS</th>\n",
              "      <th>BodyTemp</th>\n",
              "      <th>HeartRate</th>\n",
              "      <th>RiskLevel</th>\n",
              "    </tr>\n",
              "  </thead>\n",
              "  <tbody>\n",
              "    <tr>\n",
              "      <th>count</th>\n",
              "      <td>1014.000000</td>\n",
              "      <td>1014.000000</td>\n",
              "      <td>1014.000000</td>\n",
              "      <td>1014.000000</td>\n",
              "      <td>1014.000000</td>\n",
              "      <td>1014.000000</td>\n",
              "      <td>1014.000000</td>\n",
              "    </tr>\n",
              "    <tr>\n",
              "      <th>mean</th>\n",
              "      <td>29.871795</td>\n",
              "      <td>113.198225</td>\n",
              "      <td>76.460552</td>\n",
              "      <td>8.725986</td>\n",
              "      <td>98.665089</td>\n",
              "      <td>74.301775</td>\n",
              "      <td>0.867850</td>\n",
              "    </tr>\n",
              "    <tr>\n",
              "      <th>std</th>\n",
              "      <td>13.474386</td>\n",
              "      <td>18.403913</td>\n",
              "      <td>13.885796</td>\n",
              "      <td>3.293532</td>\n",
              "      <td>1.371384</td>\n",
              "      <td>8.088702</td>\n",
              "      <td>0.807353</td>\n",
              "    </tr>\n",
              "    <tr>\n",
              "      <th>min</th>\n",
              "      <td>10.000000</td>\n",
              "      <td>70.000000</td>\n",
              "      <td>49.000000</td>\n",
              "      <td>6.000000</td>\n",
              "      <td>98.000000</td>\n",
              "      <td>7.000000</td>\n",
              "      <td>0.000000</td>\n",
              "    </tr>\n",
              "    <tr>\n",
              "      <th>25%</th>\n",
              "      <td>19.000000</td>\n",
              "      <td>100.000000</td>\n",
              "      <td>65.000000</td>\n",
              "      <td>6.900000</td>\n",
              "      <td>98.000000</td>\n",
              "      <td>70.000000</td>\n",
              "      <td>0.000000</td>\n",
              "    </tr>\n",
              "    <tr>\n",
              "      <th>50%</th>\n",
              "      <td>26.000000</td>\n",
              "      <td>120.000000</td>\n",
              "      <td>80.000000</td>\n",
              "      <td>7.500000</td>\n",
              "      <td>98.000000</td>\n",
              "      <td>76.000000</td>\n",
              "      <td>1.000000</td>\n",
              "    </tr>\n",
              "    <tr>\n",
              "      <th>75%</th>\n",
              "      <td>39.000000</td>\n",
              "      <td>120.000000</td>\n",
              "      <td>90.000000</td>\n",
              "      <td>8.000000</td>\n",
              "      <td>98.000000</td>\n",
              "      <td>80.000000</td>\n",
              "      <td>2.000000</td>\n",
              "    </tr>\n",
              "    <tr>\n",
              "      <th>max</th>\n",
              "      <td>70.000000</td>\n",
              "      <td>160.000000</td>\n",
              "      <td>100.000000</td>\n",
              "      <td>19.000000</td>\n",
              "      <td>103.000000</td>\n",
              "      <td>90.000000</td>\n",
              "      <td>2.000000</td>\n",
              "    </tr>\n",
              "  </tbody>\n",
              "</table>\n",
              "</div>\n",
              "      <button class=\"colab-df-convert\" onclick=\"convertToInteractive('df-cd777708-2a36-44d6-94ce-039fb85cac23')\"\n",
              "              title=\"Convert this dataframe to an interactive table.\"\n",
              "              style=\"display:none;\">\n",
              "        \n",
              "  <svg xmlns=\"http://www.w3.org/2000/svg\" height=\"24px\"viewBox=\"0 0 24 24\"\n",
              "       width=\"24px\">\n",
              "    <path d=\"M0 0h24v24H0V0z\" fill=\"none\"/>\n",
              "    <path d=\"M18.56 5.44l.94 2.06.94-2.06 2.06-.94-2.06-.94-.94-2.06-.94 2.06-2.06.94zm-11 1L8.5 8.5l.94-2.06 2.06-.94-2.06-.94L8.5 2.5l-.94 2.06-2.06.94zm10 10l.94 2.06.94-2.06 2.06-.94-2.06-.94-.94-2.06-.94 2.06-2.06.94z\"/><path d=\"M17.41 7.96l-1.37-1.37c-.4-.4-.92-.59-1.43-.59-.52 0-1.04.2-1.43.59L10.3 9.45l-7.72 7.72c-.78.78-.78 2.05 0 2.83L4 21.41c.39.39.9.59 1.41.59.51 0 1.02-.2 1.41-.59l7.78-7.78 2.81-2.81c.8-.78.8-2.07 0-2.86zM5.41 20L4 18.59l7.72-7.72 1.47 1.35L5.41 20z\"/>\n",
              "  </svg>\n",
              "      </button>\n",
              "      \n",
              "  <style>\n",
              "    .colab-df-container {\n",
              "      display:flex;\n",
              "      flex-wrap:wrap;\n",
              "      gap: 12px;\n",
              "    }\n",
              "\n",
              "    .colab-df-convert {\n",
              "      background-color: #E8F0FE;\n",
              "      border: none;\n",
              "      border-radius: 50%;\n",
              "      cursor: pointer;\n",
              "      display: none;\n",
              "      fill: #1967D2;\n",
              "      height: 32px;\n",
              "      padding: 0 0 0 0;\n",
              "      width: 32px;\n",
              "    }\n",
              "\n",
              "    .colab-df-convert:hover {\n",
              "      background-color: #E2EBFA;\n",
              "      box-shadow: 0px 1px 2px rgba(60, 64, 67, 0.3), 0px 1px 3px 1px rgba(60, 64, 67, 0.15);\n",
              "      fill: #174EA6;\n",
              "    }\n",
              "\n",
              "    [theme=dark] .colab-df-convert {\n",
              "      background-color: #3B4455;\n",
              "      fill: #D2E3FC;\n",
              "    }\n",
              "\n",
              "    [theme=dark] .colab-df-convert:hover {\n",
              "      background-color: #434B5C;\n",
              "      box-shadow: 0px 1px 3px 1px rgba(0, 0, 0, 0.15);\n",
              "      filter: drop-shadow(0px 1px 2px rgba(0, 0, 0, 0.3));\n",
              "      fill: #FFFFFF;\n",
              "    }\n",
              "  </style>\n",
              "\n",
              "      <script>\n",
              "        const buttonEl =\n",
              "          document.querySelector('#df-cd777708-2a36-44d6-94ce-039fb85cac23 button.colab-df-convert');\n",
              "        buttonEl.style.display =\n",
              "          google.colab.kernel.accessAllowed ? 'block' : 'none';\n",
              "\n",
              "        async function convertToInteractive(key) {\n",
              "          const element = document.querySelector('#df-cd777708-2a36-44d6-94ce-039fb85cac23');\n",
              "          const dataTable =\n",
              "            await google.colab.kernel.invokeFunction('convertToInteractive',\n",
              "                                                     [key], {});\n",
              "          if (!dataTable) return;\n",
              "\n",
              "          const docLinkHtml = 'Like what you see? Visit the ' +\n",
              "            '<a target=\"_blank\" href=https://colab.research.google.com/notebooks/data_table.ipynb>data table notebook</a>'\n",
              "            + ' to learn more about interactive tables.';\n",
              "          element.innerHTML = '';\n",
              "          dataTable['output_type'] = 'display_data';\n",
              "          await google.colab.output.renderOutput(dataTable, element);\n",
              "          const docLink = document.createElement('div');\n",
              "          docLink.innerHTML = docLinkHtml;\n",
              "          element.appendChild(docLink);\n",
              "        }\n",
              "      </script>\n",
              "    </div>\n",
              "  </div>\n",
              "  "
            ]
          },
          "metadata": {},
          "execution_count": 6
        }
      ]
    },
    {
      "cell_type": "code",
      "source": [
        "maternal_health_risk_data.shape"
      ],
      "metadata": {
        "colab": {
          "base_uri": "https://localhost:8080/",
          "height": 0
        },
        "id": "jBczbuSLNjtK",
        "outputId": "440574b3-b02f-414f-9c3f-18987db66467"
      },
      "execution_count": 7,
      "outputs": [
        {
          "output_type": "execute_result",
          "data": {
            "text/plain": [
              "(1014, 7)"
            ]
          },
          "metadata": {},
          "execution_count": 7
        }
      ]
    },
    {
      "cell_type": "code",
      "source": [
        "# Plotting the Age distribution of dataset\n",
        "sns.histplot(maternal_health_risk_data.Age)\n",
        "plt.title('Age distrribution')\n",
        "plt.show()"
      ],
      "metadata": {
        "colab": {
          "base_uri": "https://localhost:8080/",
          "height": 295
        },
        "id": "T6ETnzsipVQN",
        "outputId": "e2fdf2e0-95a8-4755-ddba-4a4953539ad0"
      },
      "execution_count": 8,
      "outputs": [
        {
          "output_type": "display_data",
          "data": {
            "text/plain": [
              "<Figure size 432x288 with 1 Axes>"
            ],
            "image/png": "[encoded data removed]"
          },
          "metadata": {
            "needs_background": "light"
          }
        }
      ]
    },
    {
      "cell_type": "markdown",
      "source": [
        "Visualizing the classes in the class label"
      ],
      "metadata": {
        "id": "irl1MicB3uDF"
      }
    },
    {
      "cell_type": "code",
      "source": [
        "maternal_health_risk_data['RiskLevel'].value_counts()"
      ],
      "metadata": {
        "colab": {
          "base_uri": "https://localhost:8080/",
          "height": 0
        },
        "id": "Y6kJaTuIOeXg",
        "outputId": "af482017-aaf9-4bca-c613-bdcfdfdba02e"
      },
      "execution_count": 9,
      "outputs": [
        {
          "output_type": "execute_result",
          "data": {
            "text/plain": [
              "0    406\n",
              "1    336\n",
              "2    272\n",
              "Name: RiskLevel, dtype: int64"
            ]
          },
          "metadata": {},
          "execution_count": 9
        }
      ]
    },
    {
      "cell_type": "code",
      "source": [
        "sns.countplot(maternal_health_risk_data['RiskLevel'])"
      ],
      "metadata": {
        "colab": {
          "base_uri": "https://localhost:8080/",
          "height": 351
        },
        "id": "o5QMs3nNOxCn",
        "outputId": "f72f8b08-bcf4-4a18-fb89-d35c4774aa1a"
      },
      "execution_count": 10,
      "outputs": [
        {
          "output_type": "stream",
          "name": "stderr",
          "text": [
            "/usr/local/lib/python3.8/dist-packages/seaborn/_decorators.py:36: FutureWarning: Pass the following variable as a keyword arg: x. From version 0.12, the only valid positional argument will be `data`, and passing other arguments without an explicit keyword will result in an error or misinterpretation.\n",
            "  warnings.warn(\n"
          ]
        },
        {
          "output_type": "execute_result",
          "data": {
            "text/plain": [
              "<matplotlib.axes._subplots.AxesSubplot at 0x7f70dd360700>"
            ]
          },
          "metadata": {},
          "execution_count": 10
        },
        {
          "output_type": "display_data",
          "data": {
            "text/plain": [
              "<Figure size 432x288 with 1 Axes>"
            ],
            "image/png": "[encoded data removed]"
          },
          "metadata": {
            "needs_background": "light"
          }
        }
      ]
    },
    {
      "cell_type": "markdown",
      "source": [
        "Building and Training the Neural Network"
      ],
      "metadata": {
        "id": "wyeATNhprVGJ"
      }
    },
    {
      "cell_type": "code",
      "source": [
        "# Splitting the dataset into the Training set and the Test set\n",
        "X = (maternal_health_risk_data.drop('RiskLevel', axis=1)).values\n",
        "y = (maternal_health_risk_data['RiskLevel']).values\n",
        "\n",
        "X_train, X_test, y_train, y_test = train_test_split(X, y, test_size=0.25, stratify=y, random_state=99)"
      ],
      "metadata": {
        "id": "GX_iBFy1O4in"
      },
      "execution_count": 11,
      "outputs": []
    },
    {
      "cell_type": "code",
      "source": [
        "# Standardizing the train and test dataset\n",
        "scaler = StandardScaler()\n",
        "\n",
        "X_train_s = scaler.fit_transform(X_train)\n",
        "X_test_s = scaler.transform(X_test)"
      ],
      "metadata": {
        "id": "7dZ-HtU1QSmW"
      },
      "execution_count": 12,
      "outputs": []
    },
    {
      "cell_type": "code",
      "source": [
        "X_train_s.shape"
      ],
      "metadata": {
        "colab": {
          "base_uri": "https://localhost:8080/",
          "height": 0
        },
        "id": "em4Upnr-kS1i",
        "outputId": "7ce81851-bee6-405e-fb3b-a115f4f89912"
      },
      "execution_count": 13,
      "outputs": [
        {
          "output_type": "execute_result",
          "data": {
            "text/plain": [
              "(760, 6)"
            ]
          },
          "metadata": {},
          "execution_count": 13
        }
      ]
    },
    {
      "cell_type": "code",
      "source": [
        "# Instantiating the model and adding layers to the model\n",
        "model = tf.keras.models.Sequential()\n",
        "model.add(tf.keras.layers.Dense(16, activation='relu', input_shape=(6,)))\n",
        "model.add(tf.keras.layers.Dense(3, activation='softmax'))"
      ],
      "metadata": {
        "id": "0TIyZlkpQvNs"
      },
      "execution_count": 14,
      "outputs": []
    },
    {
      "cell_type": "code",
      "source": [
        "# Compiling the model and selecting an optimizer and a loss function\n",
        "model.compile(optimizer='adam', loss='sparse_categorical_crossentropy', metrics='accuracy')"
      ],
      "metadata": {
        "id": "9LuWn_JJSPZg"
      },
      "execution_count": 15,
      "outputs": []
    },
    {
      "cell_type": "code",
      "source": [
        "model.summary()"
      ],
      "metadata": {
        "colab": {
          "base_uri": "https://localhost:8080/",
          "height": 0
        },
        "id": "5t34ekU4VUR5",
        "outputId": "0a28e0c7-e2a1-4ef3-dbb0-1ebc83a30220"
      },
      "execution_count": 16,
      "outputs": [
        {
          "output_type": "stream",
          "name": "stdout",
          "text": [
            "Model: \"sequential\"\n",
            "_________________________________________________________________\n",
            " Layer (type)                Output Shape              Param #   \n",
            "=================================================================\n",
            " dense (Dense)               (None, 16)                112       \n",
            "                                                                 \n",
            " dense_1 (Dense)             (None, 3)                 51        \n",
            "                                                                 \n",
            "=================================================================\n",
            "Total params: 163\n",
            "Trainable params: 163\n",
            "Non-trainable params: 0\n",
            "_________________________________________________________________\n"
          ]
        }
      ]
    },
    {
      "cell_type": "code",
      "source": [
        "# Weighting the classes and fitting the model\n",
        "class_weights = {0:1, 1:2, 2:3}\n",
        "\n",
        "history = model.fit(X_train_s, y_train, batch_size=8, epochs=50, verbose=2, class_weight=class_weights, validation_split=0.25)"
      ],
      "metadata": {
        "colab": {
          "base_uri": "https://localhost:8080/",
          "height": 0
        },
        "id": "EZ927IJvVY9g",
        "outputId": "1b28bbf7-85fc-4eae-d4dd-8e3c1b6c15af"
      },
      "execution_count": 17,
      "outputs": [
        {
          "output_type": "stream",
          "name": "stdout",
          "text": [
            "Epoch 1/50\n",
            "72/72 - 4s - loss: 1.8860 - accuracy: 0.3614 - val_loss: 1.0586 - val_accuracy: 0.4211 - 4s/epoch - 58ms/step\n",
            "Epoch 2/50\n",
            "72/72 - 0s - loss: 1.7486 - accuracy: 0.4456 - val_loss: 1.0102 - val_accuracy: 0.4895 - 401ms/epoch - 6ms/step\n",
            "Epoch 3/50\n",
            "72/72 - 0s - loss: 1.6615 - accuracy: 0.4895 - val_loss: 0.9767 - val_accuracy: 0.4947 - 362ms/epoch - 5ms/step\n",
            "Epoch 4/50\n",
            "72/72 - 0s - loss: 1.5949 - accuracy: 0.5070 - val_loss: 0.9444 - val_accuracy: 0.5263 - 490ms/epoch - 7ms/step\n",
            "Epoch 5/50\n",
            "72/72 - 0s - loss: 1.5391 - accuracy: 0.5439 - val_loss: 0.9167 - val_accuracy: 0.5526 - 343ms/epoch - 5ms/step\n",
            "Epoch 6/50\n",
            "72/72 - 1s - loss: 1.4908 - accuracy: 0.5719 - val_loss: 0.8958 - val_accuracy: 0.5737 - 537ms/epoch - 7ms/step\n",
            "Epoch 7/50\n",
            "72/72 - 0s - loss: 1.4500 - accuracy: 0.5684 - val_loss: 0.8825 - val_accuracy: 0.5684 - 351ms/epoch - 5ms/step\n",
            "Epoch 8/50\n",
            "72/72 - 0s - loss: 1.4119 - accuracy: 0.5754 - val_loss: 0.8647 - val_accuracy: 0.5947 - 309ms/epoch - 4ms/step\n",
            "Epoch 9/50\n",
            "72/72 - 1s - loss: 1.3790 - accuracy: 0.6088 - val_loss: 0.8543 - val_accuracy: 0.6105 - 554ms/epoch - 8ms/step\n",
            "Epoch 10/50\n",
            "72/72 - 0s - loss: 1.3481 - accuracy: 0.6175 - val_loss: 0.8447 - val_accuracy: 0.6105 - 315ms/epoch - 4ms/step\n",
            "Epoch 11/50\n",
            "72/72 - 0s - loss: 1.3191 - accuracy: 0.6246 - val_loss: 0.8325 - val_accuracy: 0.6105 - 337ms/epoch - 5ms/step\n",
            "Epoch 12/50\n",
            "72/72 - 0s - loss: 1.2949 - accuracy: 0.6421 - val_loss: 0.8241 - val_accuracy: 0.6053 - 440ms/epoch - 6ms/step\n",
            "Epoch 13/50\n",
            "72/72 - 0s - loss: 1.2737 - accuracy: 0.6281 - val_loss: 0.8255 - val_accuracy: 0.6000 - 451ms/epoch - 6ms/step\n",
            "Epoch 14/50\n",
            "72/72 - 0s - loss: 1.2542 - accuracy: 0.6351 - val_loss: 0.8171 - val_accuracy: 0.6105 - 451ms/epoch - 6ms/step\n",
            "Epoch 15/50\n",
            "72/72 - 0s - loss: 1.2362 - accuracy: 0.6474 - val_loss: 0.8167 - val_accuracy: 0.6105 - 386ms/epoch - 5ms/step\n",
            "Epoch 16/50\n",
            "72/72 - 0s - loss: 1.2202 - accuracy: 0.6386 - val_loss: 0.8154 - val_accuracy: 0.6053 - 469ms/epoch - 7ms/step\n",
            "Epoch 17/50\n",
            "72/72 - 0s - loss: 1.2073 - accuracy: 0.6526 - val_loss: 0.8113 - val_accuracy: 0.6053 - 447ms/epoch - 6ms/step\n",
            "Epoch 18/50\n",
            "72/72 - 0s - loss: 1.1945 - accuracy: 0.6544 - val_loss: 0.8046 - val_accuracy: 0.6158 - 404ms/epoch - 6ms/step\n",
            "Epoch 19/50\n",
            "72/72 - 0s - loss: 1.1817 - accuracy: 0.6544 - val_loss: 0.8052 - val_accuracy: 0.6158 - 379ms/epoch - 5ms/step\n",
            "Epoch 20/50\n",
            "72/72 - 0s - loss: 1.1725 - accuracy: 0.6526 - val_loss: 0.8018 - val_accuracy: 0.6316 - 217ms/epoch - 3ms/step\n",
            "Epoch 21/50\n",
            "72/72 - 0s - loss: 1.1646 - accuracy: 0.6544 - val_loss: 0.7995 - val_accuracy: 0.6368 - 198ms/epoch - 3ms/step\n",
            "Epoch 22/50\n",
            "72/72 - 0s - loss: 1.1573 - accuracy: 0.6649 - val_loss: 0.7970 - val_accuracy: 0.6316 - 203ms/epoch - 3ms/step\n",
            "Epoch 23/50\n",
            "72/72 - 0s - loss: 1.1471 - accuracy: 0.6649 - val_loss: 0.7976 - val_accuracy: 0.6368 - 216ms/epoch - 3ms/step\n",
            "Epoch 24/50\n",
            "72/72 - 0s - loss: 1.1393 - accuracy: 0.6684 - val_loss: 0.7976 - val_accuracy: 0.6263 - 195ms/epoch - 3ms/step\n",
            "Epoch 25/50\n",
            "72/72 - 0s - loss: 1.1335 - accuracy: 0.6684 - val_loss: 0.7922 - val_accuracy: 0.6263 - 201ms/epoch - 3ms/step\n",
            "Epoch 26/50\n",
            "72/72 - 0s - loss: 1.1298 - accuracy: 0.6649 - val_loss: 0.7909 - val_accuracy: 0.6263 - 214ms/epoch - 3ms/step\n",
            "Epoch 27/50\n",
            "72/72 - 0s - loss: 1.1197 - accuracy: 0.6702 - val_loss: 0.7882 - val_accuracy: 0.6316 - 222ms/epoch - 3ms/step\n",
            "Epoch 28/50\n",
            "72/72 - 0s - loss: 1.1157 - accuracy: 0.6579 - val_loss: 0.7895 - val_accuracy: 0.6316 - 209ms/epoch - 3ms/step\n",
            "Epoch 29/50\n",
            "72/72 - 0s - loss: 1.1103 - accuracy: 0.6702 - val_loss: 0.7869 - val_accuracy: 0.6316 - 217ms/epoch - 3ms/step\n",
            "Epoch 30/50\n",
            "72/72 - 0s - loss: 1.1065 - accuracy: 0.6754 - val_loss: 0.7849 - val_accuracy: 0.6316 - 217ms/epoch - 3ms/step\n",
            "Epoch 31/50\n",
            "72/72 - 0s - loss: 1.1003 - accuracy: 0.6702 - val_loss: 0.7863 - val_accuracy: 0.6263 - 215ms/epoch - 3ms/step\n",
            "Epoch 32/50\n",
            "72/72 - 0s - loss: 1.0954 - accuracy: 0.6649 - val_loss: 0.7842 - val_accuracy: 0.6158 - 194ms/epoch - 3ms/step\n",
            "Epoch 33/50\n",
            "72/72 - 0s - loss: 1.0910 - accuracy: 0.6719 - val_loss: 0.7821 - val_accuracy: 0.6368 - 228ms/epoch - 3ms/step\n",
            "Epoch 34/50\n",
            "72/72 - 0s - loss: 1.0882 - accuracy: 0.6684 - val_loss: 0.7794 - val_accuracy: 0.6316 - 195ms/epoch - 3ms/step\n",
            "Epoch 35/50\n",
            "72/72 - 0s - loss: 1.0848 - accuracy: 0.6754 - val_loss: 0.7792 - val_accuracy: 0.6316 - 228ms/epoch - 3ms/step\n",
            "Epoch 36/50\n",
            "72/72 - 0s - loss: 1.0795 - accuracy: 0.6737 - val_loss: 0.7778 - val_accuracy: 0.6316 - 235ms/epoch - 3ms/step\n",
            "Epoch 37/50\n",
            "72/72 - 0s - loss: 1.0732 - accuracy: 0.6947 - val_loss: 0.7757 - val_accuracy: 0.6316 - 214ms/epoch - 3ms/step\n",
            "Epoch 38/50\n",
            "72/72 - 0s - loss: 1.0713 - accuracy: 0.6789 - val_loss: 0.7761 - val_accuracy: 0.6316 - 208ms/epoch - 3ms/step\n",
            "Epoch 39/50\n",
            "72/72 - 0s - loss: 1.0707 - accuracy: 0.6807 - val_loss: 0.7734 - val_accuracy: 0.6263 - 200ms/epoch - 3ms/step\n",
            "Epoch 40/50\n",
            "72/72 - 0s - loss: 1.0638 - accuracy: 0.6772 - val_loss: 0.7735 - val_accuracy: 0.6263 - 200ms/epoch - 3ms/step\n",
            "Epoch 41/50\n",
            "72/72 - 0s - loss: 1.0602 - accuracy: 0.6842 - val_loss: 0.7716 - val_accuracy: 0.6263 - 224ms/epoch - 3ms/step\n",
            "Epoch 42/50\n",
            "72/72 - 0s - loss: 1.0581 - accuracy: 0.6877 - val_loss: 0.7689 - val_accuracy: 0.6263 - 193ms/epoch - 3ms/step\n",
            "Epoch 43/50\n",
            "72/72 - 0s - loss: 1.0533 - accuracy: 0.6877 - val_loss: 0.7673 - val_accuracy: 0.6263 - 215ms/epoch - 3ms/step\n",
            "Epoch 44/50\n",
            "72/72 - 0s - loss: 1.0516 - accuracy: 0.6825 - val_loss: 0.7670 - val_accuracy: 0.6263 - 228ms/epoch - 3ms/step\n",
            "Epoch 45/50\n",
            "72/72 - 0s - loss: 1.0474 - accuracy: 0.6825 - val_loss: 0.7652 - val_accuracy: 0.6263 - 232ms/epoch - 3ms/step\n",
            "Epoch 46/50\n",
            "72/72 - 0s - loss: 1.0445 - accuracy: 0.6807 - val_loss: 0.7628 - val_accuracy: 0.6263 - 227ms/epoch - 3ms/step\n",
            "Epoch 47/50\n",
            "72/72 - 0s - loss: 1.0422 - accuracy: 0.6930 - val_loss: 0.7624 - val_accuracy: 0.6263 - 211ms/epoch - 3ms/step\n",
            "Epoch 48/50\n",
            "72/72 - 0s - loss: 1.0390 - accuracy: 0.6807 - val_loss: 0.7638 - val_accuracy: 0.6158 - 197ms/epoch - 3ms/step\n",
            "Epoch 49/50\n",
            "72/72 - 0s - loss: 1.0364 - accuracy: 0.6895 - val_loss: 0.7617 - val_accuracy: 0.6158 - 198ms/epoch - 3ms/step\n",
            "Epoch 50/50\n",
            "72/72 - 0s - loss: 1.0343 - accuracy: 0.6860 - val_loss: 0.7607 - val_accuracy: 0.6211 - 240ms/epoch - 3ms/step\n"
          ]
        }
      ]
    },
    {
      "cell_type": "markdown",
      "source": [
        "Evaluating the Neural Network"
      ],
      "metadata": {
        "id": "3v6ASFmFtsBY"
      }
    },
    {
      "cell_type": "code",
      "source": [
        "# Plotting the training and validation accuracy\n",
        "accuracy = history.history['accuracy']\n",
        "validation_accuracy = history.history['val_accuracy']\n",
        "\n",
        "plt.plot(accuracy, label='Training Set Accuracy')\n",
        "plt.plot(validation_accuracy, label='Validation Set Accuracy')\n",
        "plt.ylabel('Accuracy')\n",
        "plt.ylim([min(plt.ylim()), 1])\n",
        "plt.title('Training and Validation Accuracy Across Epochs')\n",
        "plt.legend()"
      ],
      "metadata": {
        "id": "0t3Rkt0ZYZfu",
        "colab": {
          "base_uri": "https://localhost:8080/",
          "height": 298
        },
        "outputId": "38aebc92-73e5-44eb-9f65-8dc87ca32348"
      },
      "execution_count": 18,
      "outputs": [
        {
          "output_type": "execute_result",
          "data": {
            "text/plain": [
              "<matplotlib.legend.Legend at 0x7f70764445b0>"
            ]
          },
          "metadata": {},
          "execution_count": 18
        },
        {
          "output_type": "display_data",
          "data": {
            "text/plain": [
              "<Figure size 432x288 with 1 Axes>"
            ],
            "image/png": "[encoded data removed]"
          },
          "metadata": {
            "needs_background": "light"
          }
        }
      ]
    },
    {
      "cell_type": "code",
      "source": [
        "# Plotting the training and validation loss\n",
        "loss = history.history['loss']\n",
        "validation_loss = history.history['val_loss']\n",
        "\n",
        "plt.plot(loss, label='Training Set Loss')\n",
        "plt.plot(validation_loss, label='Validation Set Loss')\n",
        "plt.ylabel('Loss')\n",
        "plt.title('Training and validation Accuracy Across Epochs')\n",
        "plt.legend()"
      ],
      "metadata": {
        "id": "3YoLRGF_aRZs",
        "colab": {
          "base_uri": "https://localhost:8080/",
          "height": 298
        },
        "outputId": "5f710799-0eda-4d4b-e4af-fe2222afd520"
      },
      "execution_count": 19,
      "outputs": [
        {
          "output_type": "execute_result",
          "data": {
            "text/plain": [
              "<matplotlib.legend.Legend at 0x7f7076421cd0>"
            ]
          },
          "metadata": {},
          "execution_count": 19
        },
        {
          "output_type": "display_data",
          "data": {
            "text/plain": [
              "<Figure size 432x288 with 1 Axes>"
            ],
            "image/png": "[encoded data removed]"
          },
          "metadata": {
            "needs_background": "light"
          }
        }
      ]
    },
    {
      "cell_type": "code",
      "source": [
        "# Generating predictions for the test data\n",
        "y_pred = model.predict(X_test_s)\n",
        "y_pred = y_pred.argmax(axis=1)"
      ],
      "metadata": {
        "id": "VThQseIZdPY4",
        "colab": {
          "base_uri": "https://localhost:8080/",
          "height": 0
        },
        "outputId": "4b779211-0010-4ff9-9e5f-97595b801cd4"
      },
      "execution_count": 20,
      "outputs": [
        {
          "output_type": "stream",
          "name": "stdout",
          "text": [
            "8/8 [==============================] - 0s 2ms/step\n"
          ]
        }
      ]
    },
    {
      "cell_type": "code",
      "source": [
        "y_test"
      ],
      "metadata": {
        "colab": {
          "base_uri": "https://localhost:8080/",
          "height": 0
        },
        "id": "w1Xhf_4XE-dN",
        "outputId": "b40de14f-80e1-4c82-ba9e-db3efbdfaf46"
      },
      "execution_count": 21,
      "outputs": [
        {
          "output_type": "execute_result",
          "data": {
            "text/plain": [
              "array([1, 1, 1, 1, 2, 0, 0, 0, 0, 0, 1, 2, 1, 2, 1, 1, 0, 1, 2, 2, 0, 2,\n",
              "       0, 2, 1, 0, 1, 1, 1, 1, 0, 0, 2, 2, 0, 1, 0, 0, 1, 2, 0, 1, 1, 2,\n",
              "       0, 2, 0, 1, 0, 0, 1, 0, 1, 0, 0, 2, 1, 2, 0, 0, 0, 2, 2, 0, 0, 2,\n",
              "       0, 0, 2, 0, 1, 1, 0, 1, 0, 0, 0, 0, 0, 0, 1, 0, 2, 0, 2, 0, 0, 0,\n",
              "       2, 2, 2, 1, 1, 2, 0, 2, 2, 1, 2, 1, 0, 1, 1, 0, 1, 2, 1, 0, 2, 2,\n",
              "       0, 1, 0, 1, 2, 0, 1, 2, 1, 0, 1, 2, 1, 2, 1, 2, 1, 0, 2, 2, 2, 1,\n",
              "       2, 2, 2, 0, 1, 1, 0, 0, 0, 1, 1, 0, 0, 0, 0, 1, 1, 0, 2, 0, 0, 0,\n",
              "       0, 2, 1, 1, 1, 0, 1, 2, 2, 0, 0, 2, 1, 1, 0, 0, 0, 1, 0, 0, 0, 0,\n",
              "       2, 0, 2, 1, 0, 1, 1, 2, 1, 1, 2, 1, 1, 1, 1, 0, 2, 1, 0, 1, 1, 0,\n",
              "       2, 2, 2, 1, 1, 0, 1, 2, 2, 0, 1, 1, 2, 1, 2, 1, 0, 0, 0, 2, 0, 0,\n",
              "       0, 0, 2, 1, 0, 0, 2, 0, 2, 2, 1, 0, 0, 0, 1, 1, 0, 2, 0, 1, 0, 2,\n",
              "       2, 2, 1, 1, 0, 0, 1, 1, 0, 0, 0, 2])"
            ]
          },
          "metadata": {},
          "execution_count": 21
        }
      ]
    },
    {
      "cell_type": "code",
      "source": [
        "y_pred"
      ],
      "metadata": {
        "colab": {
          "base_uri": "https://localhost:8080/",
          "height": 0
        },
        "id": "8NKoRMJKE_JK",
        "outputId": "57a8168f-348f-4100-a8c9-60bbaa515bb4"
      },
      "execution_count": 22,
      "outputs": [
        {
          "output_type": "execute_result",
          "data": {
            "text/plain": [
              "array([1, 1, 2, 2, 2, 0, 1, 0, 2, 0, 0, 0, 1, 2, 0, 1, 1, 1, 2, 2, 1, 2,\n",
              "       0, 2, 1, 0, 1, 0, 0, 0, 1, 0, 2, 2, 0, 1, 1, 1, 1, 2, 0, 1, 1, 2,\n",
              "       0, 2, 0, 1, 1, 0, 1, 1, 1, 1, 1, 2, 1, 2, 2, 0, 1, 2, 2, 1, 1, 1,\n",
              "       0, 0, 2, 0, 1, 1, 0, 1, 0, 0, 1, 1, 0, 1, 0, 0, 2, 0, 2, 1, 1, 0,\n",
              "       2, 2, 2, 0, 2, 2, 0, 2, 1, 1, 2, 1, 0, 1, 1, 0, 0, 2, 1, 1, 2, 1,\n",
              "       1, 0, 0, 2, 2, 1, 2, 1, 1, 0, 2, 2, 1, 2, 0, 2, 2, 0, 2, 2, 2, 0,\n",
              "       2, 2, 2, 1, 1, 0, 2, 1, 0, 2, 1, 1, 0, 1, 1, 1, 1, 0, 2, 1, 0, 0,\n",
              "       0, 2, 2, 0, 1, 0, 1, 2, 2, 1, 1, 2, 1, 1, 1, 0, 1, 1, 0, 1, 0, 1,\n",
              "       2, 1, 2, 1, 1, 0, 1, 2, 1, 1, 2, 1, 1, 1, 0, 1, 1, 1, 0, 1, 2, 2,\n",
              "       2, 2, 2, 1, 1, 1, 2, 1, 2, 0, 0, 1, 2, 2, 2, 1, 0, 1, 1, 2, 0, 0,\n",
              "       0, 0, 2, 0, 1, 2, 2, 0, 2, 2, 0, 0, 0, 2, 0, 0, 1, 2, 2, 1, 1, 2,\n",
              "       2, 2, 0, 1, 0, 2, 1, 1, 0, 0, 0, 2])"
            ]
          },
          "metadata": {},
          "execution_count": 22
        }
      ]
    },
    {
      "cell_type": "code",
      "source": [
        "from sklearn.metrics import confusion_matrix, classification_report, accuracy_score"
      ],
      "metadata": {
        "id": "msr2UJ-KcYpi"
      },
      "execution_count": 23,
      "outputs": []
    },
    {
      "cell_type": "code",
      "source": [
        "# Evaluating the model performance on the test data\n",
        "confusion_matrix_value = confusion_matrix(y_test, y_pred)\n",
        "\n",
        "ax = sns.heatmap(confusion_matrix_value, cmap='flare', annot=True, fmt='d')\n",
        "\n",
        "plt.xlabel(\"Predicted Class\", fontsize=12)\n",
        "plt.ylabel(\"True Class\", fontsize=12)\n",
        "plt.title(\"Confusion Matrix\", fontsize=12)\n",
        "\n",
        "plt.show()"
      ],
      "metadata": {
        "id": "NXs4XaJJdaIi",
        "colab": {
          "base_uri": "https://localhost:8080/",
          "height": 298
        },
        "outputId": "9f11dac7-90a8-4059-f48d-7de5986cd2b2"
      },
      "execution_count": 24,
      "outputs": [
        {
          "output_type": "display_data",
          "data": {
            "text/plain": [
              "<Figure size 432x288 with 2 Axes>"
            ],
            "image/png": "[encoded data removed]"
          },
          "metadata": {
            "needs_background": "light"
          }
        }
      ]
    },
    {
      "cell_type": "code",
      "source": [
        "print(classification_report(y_test, y_pred))"
      ],
      "metadata": {
        "id": "cmq75wbSdi9G",
        "colab": {
          "base_uri": "https://localhost:8080/",
          "height": 0
        },
        "outputId": "0458fde8-45f0-45fc-91cf-0572e7dfbe2b"
      },
      "execution_count": 25,
      "outputs": [
        {
          "output_type": "stream",
          "name": "stdout",
          "text": [
            "              precision    recall  f1-score   support\n",
            "\n",
            "           0       0.70      0.51      0.59       102\n",
            "           1       0.52      0.61      0.56        84\n",
            "           2       0.75      0.90      0.82        68\n",
            "\n",
            "    accuracy                           0.65       254\n",
            "   macro avg       0.66      0.67      0.66       254\n",
            "weighted avg       0.65      0.65      0.64       254\n",
            "\n"
          ]
        }
      ]
    }
  ]
}